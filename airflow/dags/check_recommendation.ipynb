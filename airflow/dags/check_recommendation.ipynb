{
 "cells": [
  {
   "cell_type": "code",
   "execution_count": 9,
   "id": "04e7d8f3",
   "metadata": {},
   "outputs": [],
   "source": [
    "from datetime import datetime, timezone\n",
    "\n",
    "from pyspark.sql import SparkSession\n",
    "\n"
   ]
  },
  {
   "cell_type": "code",
   "execution_count": 10,
   "id": "01df6182",
   "metadata": {},
   "outputs": [],
   "source": [
    "# Get the current GMT date\n",
    "current_gmt_date = datetime.now(timezone.utc).strftime('%Y-%m-%d')\n"
   ]
  },
  {
   "cell_type": "code",
   "execution_count": 11,
   "id": "82f910dc",
   "metadata": {},
   "outputs": [
    {
     "name": "stdout",
     "output_type": "stream",
     "text": [
      "+-------------------+------------+------------+-------------+-------------+-------------+-------------+\n",
      "|               date|buy_zone.min|buy_zone.max|sell_zone.min|sell_zone.max|stop_loss.min|stop_loss.max|\n",
      "+-------------------+------------+------------+-------------+-------------+-------------+-------------+\n",
      "|2025-05-10 12:31:38|       99500|      101000|       109000|       110000|        97500|        98500|\n",
      "|2025-05-10 12:30:46|       98000|       99500|       104000|       105500|        97000|        97500|\n",
      "|2025-05-10 12:30:37|      102000|      103000|       109000|       110000|       101500|       102000|\n",
      "|2025-05-10 12:29:46|      102000|      103000|       108000|       109500|        99000|       100000|\n",
      "|2025-05-10 12:29:39|      100000|      101500|       108500|       109500|        99500|        99900|\n",
      "+-------------------+------------+------------+-------------+-------------+-------------+-------------+\n",
      "only showing top 5 rows\n",
      "\n"
     ]
    }
   ],
   "source": [
    "spark = SparkSession.builder \\\n",
    "    .appName(\"ReadRecommend\") \\\n",
    "    .config(\"spark.executor.memory\", \"2g\") \\\n",
    "    .config(\"spark.driver.memory\", \"2g\") \\\n",
    "    .getOrCreate()\n",
    "\n",
    "# read the data from parquet files\n",
    "df = spark.read.parquet(f\"./recommendations/recommendation_{current_gmt_date}*.parquet\")\n",
    "df.orderBy(\"date\",ascending=False).show(5)\n"
   ]
  },
  {
   "cell_type": "code",
   "execution_count": 12,
   "id": "ecac85a3",
   "metadata": {},
   "outputs": [],
   "source": [
    "spark.stop()"
   ]
  }
 ],
 "metadata": {
  "kernelspec": {
   "display_name": "Python 3",
   "language": "python",
   "name": "python3"
  },
  "language_info": {
   "codemirror_mode": {
    "name": "ipython",
    "version": 3
   },
   "file_extension": ".py",
   "mimetype": "text/x-python",
   "name": "python",
   "nbconvert_exporter": "python",
   "pygments_lexer": "ipython3",
   "version": "3.11.9"
  }
 },
 "nbformat": 4,
 "nbformat_minor": 5
}
